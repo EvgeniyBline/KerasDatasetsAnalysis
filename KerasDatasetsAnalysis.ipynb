{
 "cells": [
  {
   "cell_type": "code",
   "execution_count": 121,
   "metadata": {},
   "outputs": [],
   "source": [
    "from tensorflow.keras import datasets\n",
    "from tensorflow.keras.models import Sequential\n",
    "from tensorflow.keras.layers import Dense, Dropout, Embedding, Flatten\n",
    "from tensorflow.keras.preprocessing.text import Tokenizer\n",
    "from tensorflow.keras.preprocessing.sequence import pad_sequences\n",
    "from sklearn.model_selection import train_test_split\n",
    "from tensorflow.keras.optimizers import Adam\n",
    "from matplotlib import pyplot as plt\n",
    "import pandas as pd\n",
    "import numpy as np"
   ]
  },
  {
   "cell_type": "code",
   "execution_count": 105,
   "metadata": {},
   "outputs": [],
   "source": [
    "MAX_FEATURES = 10000\n",
    "MAX_LEN = 50"
   ]
  },
  {
   "cell_type": "code",
   "execution_count": 90,
   "metadata": {},
   "outputs": [],
   "source": [
    "imdb = datasets.imdb.load_data(num_words=MAX_FEATURES)\n",
    "word_indexes = datasets.imdb.get_word_index()"
   ]
  },
  {
   "cell_type": "code",
   "execution_count": 112,
   "metadata": {},
   "outputs": [
    {
     "name": "stdout",
     "output_type": "stream",
     "text": [
      "Max 0 class len: 2494\n",
      "Min 0 class len: 11\n",
      "Max 1 class len: 2315\n",
      "Min 1 class len: 7\n",
      "Len 0 class: 25000\n",
      "Len 1 class: 25000\n"
     ]
    }
   ],
   "source": [
    "print(f'Max 0 class len: {len(max(imdb[0][0], key=len))}')\n",
    "print(f'Min 0 class len: {len(min(imdb[0][0], key=len))}')\n",
    "print(f'Max 1 class len: {len(max(imdb[1][0], key=len))}')\n",
    "print(f'Min 1 class len: {len(min(imdb[1][0], key=len))}')\n",
    "print(f'Len 0 class: {len(imdb[0][0])}')\n",
    "print(f'Len 1 class: {len(imdb[1][0])}')"
   ]
  },
  {
   "cell_type": "code",
   "execution_count": 81,
   "metadata": {},
   "outputs": [
    {
     "name": "stdout",
     "output_type": "stream",
     "text": [
      "Concated array shape: 50000\n"
     ]
    }
   ],
   "source": [
    "concated = np.concatenate([imdb[0][0], imdb[1][0]])\n",
    "print(f'Concated array shape: {concated.shape[0]}')"
   ]
  },
  {
   "cell_type": "code",
   "execution_count": 106,
   "metadata": {},
   "outputs": [
    {
     "name": "stdout",
     "output_type": "stream",
     "text": [
      "Shape (50000, 50)\n"
     ]
    }
   ],
   "source": [
    "padded = pad_sequences(concated, maxlen=MAX_LEN)\n",
    "print(f'Shape {padded.shape}')"
   ]
  },
  {
   "cell_type": "code",
   "execution_count": 107,
   "metadata": {},
   "outputs": [
    {
     "name": "stdout",
     "output_type": "stream",
     "text": [
      "25000.0\n"
     ]
    },
    {
     "data": {
      "text/plain": [
       "array([0., 0., 0., ..., 1., 1., 1.])"
      ]
     },
     "execution_count": 107,
     "metadata": {},
     "output_type": "execute_result"
    }
   ],
   "source": [
    "labels = np.zeros((50000))\n",
    "labels[25000:] = 1\n",
    "print(labels.sum())\n",
    "labels"
   ]
  },
  {
   "cell_type": "code",
   "execution_count": 108,
   "metadata": {},
   "outputs": [],
   "source": [
    "X_train, X_test, y_train, y_test = train_test_split(padded, labels, test_size=.25, random_state=42)"
   ]
  },
  {
   "cell_type": "code",
   "execution_count": 109,
   "metadata": {},
   "outputs": [
    {
     "name": "stdout",
     "output_type": "stream",
     "text": [
      "X_train shape: (37500, 50)\n",
      "y_train shape: (37500,)\n",
      "\n",
      "X_test shape: (12500, 50)\n",
      "y_test shape: (12500,)\n"
     ]
    }
   ],
   "source": [
    "print(f'X_train shape: {X_train.shape}')\n",
    "print(f'y_train shape: {y_train.shape}')\n",
    "print()\n",
    "print(f'X_test shape: {X_test.shape}')\n",
    "print(f'y_test shape: {y_test.shape}')"
   ]
  },
  {
   "cell_type": "code",
   "execution_count": 111,
   "metadata": {},
   "outputs": [
    {
     "name": "stdout",
     "output_type": "stream",
     "text": [
      "Epoch 1/5\n",
      "1172/1172 - 34s - loss: 0.6929 - acc: 0.5176 - auc: 0.5226 - val_loss: 0.6920 - val_acc: 0.5210 - val_auc: 0.5246\n",
      "Epoch 2/5\n",
      "1172/1172 - 34s - loss: 0.5479 - acc: 0.7183 - auc: 0.7936 - val_loss: 0.8039 - val_acc: 0.5239 - val_auc: 0.5315\n",
      "Epoch 3/5\n",
      "1172/1172 - 34s - loss: 0.1243 - acc: 0.9541 - auc: 0.9905 - val_loss: 1.6372 - val_acc: 0.5206 - val_auc: 0.5235\n",
      "Epoch 4/5\n",
      "1172/1172 - 34s - loss: 0.0309 - acc: 0.9914 - auc: 0.9988 - val_loss: 2.5285 - val_acc: 0.5232 - val_auc: 0.5275\n",
      "Epoch 5/5\n",
      "1172/1172 - 34s - loss: 0.0184 - acc: 0.9929 - auc: 0.9996 - val_loss: 2.9546 - val_acc: 0.5150 - val_auc: 0.5193\n"
     ]
    },
    {
     "data": {
      "text/plain": [
       "<tensorflow.python.keras.callbacks.History at 0x7f9ffb4d1860>"
      ]
     },
     "execution_count": 111,
     "metadata": {},
     "output_type": "execute_result"
    }
   ],
   "source": [
    "model = Sequential()\n",
    "model.add(Embedding(10000, 64, input_length=50))\n",
    "model.add(Flatten())\n",
    "model.add(Dense(units=1024, activation='relu'))\n",
    "model.add(Dense(units=1, activation='sigmoid'))\n",
    "model.compile(loss='binary_crossentropy', optimizer='adam', metrics=['acc', 'AUC'])\n",
    "model.fit(X_train, y_train, validation_data=(X_test, y_test), epochs=5, verbose=2)"
   ]
  },
  {
   "cell_type": "code",
   "execution_count": 120,
   "metadata": {},
   "outputs": [
    {
     "data": {
      "image/png": "[encoded data removed]",
      "text/plain": [
       "<Figure size 432x288 with 1 Axes>"
      ]
     },
     "metadata": {
      "needs_background": "light"
     },
     "output_type": "display_data"
    }
   ],
   "source": [
    "plt.plot(range(0, 5), model.history.history['val_acc'], label='val acc')\n",
    "plt.plot(range(0, 5), model.history.history['acc'], label='train acc')\n",
    "plt.legend(loc='best');"
   ]
  },
  {
   "cell_type": "code",
   "execution_count": 124,
   "metadata": {},
   "outputs": [
    {
     "name": "stdout",
     "output_type": "stream",
     "text": [
      "Epoch 1/5\n",
      "1172/1172 - 17s - loss: 0.7081 - acc: 0.4990 - auc: 0.4981 - val_loss: 0.6956 - val_acc: 0.5023 - val_auc: 0.5010\n",
      "Epoch 2/5\n"
     ]
    }
   ],
   "source": [
    "model = Sequential()\n",
    "model.add(Embedding(10000, 64, input_length=50))\n",
    "model.add(Flatten())\n",
    "model.add(Dense(units=512, activation='relu'))\n",
    "model.add(Dropout(.5))\n",
    "model.add(Dense(units=1, activation='sigmoid'))\n",
    "model.compile(loss='binary_crossentropy', optimizer=Adam(learning_rate=.01), metrics=['acc', 'AUC'])\n",
    "model.fit(X_train, y_train, validation_data=(X_test, y_test), epochs=5, verbose=2)\n",
    "plt.plot(range(0, 5), model.history.history['val_acc'], label='val acc')\n",
    "plt.plot(range(0, 5), model.history.history['acc'], label='train acc')\n",
    "plt.legend(loc='best');"
   ]
  },
  {
   "cell_type": "code",
   "execution_count": null,
   "metadata": {},
   "outputs": [],
   "source": []
  }
 ],
 "metadata": {
  "interpreter": {
   "hash": "e534e48711db4d1e1c48977d0d14ff85b1f16d41bcc4fdfd88268a329b3c9d66"
  },
  "kernelspec": {
   "display_name": "",
   "language": "python",
   "name": "python3"
  },
  "language_info": {
   "codemirror_mode": {
    "name": "ipython",
    "version": 3
   },
   "file_extension": ".py",
   "mimetype": "text/x-python",
   "name": "python",
   "nbconvert_exporter": "python",
   "pygments_lexer": "ipython3",
   "version": "3.7.3"
  },
  "orig_nbformat": 4
 },
 "nbformat": 4,
 "nbformat_minor": 2
}
